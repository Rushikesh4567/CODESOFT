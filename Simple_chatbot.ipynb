{
  "cells": [
    {
      "cell_type": "code",
      "execution_count": null,
      "metadata": {
        "id": "9L_8MNWD1PsF"
      },
      "outputs": [],
      "source": [
        "#simple chatbot\n",
        "\n",
        "import re\n",
        "\n",
        "def chatbot():\n",
        "    print(\"Hello! I'm a simple chatbot. Type \",\" bye \",\"to exit.\")\n",
        "    print()\n",
        "    while True:\n",
        "        user_input = input(\"You: \").lower()\n",
        "\n",
        "        if re.search(r\"\\bhi\\b|\\bhello\\b|\\bhey\\b\",user_input):\n",
        "          print(\"Bot: Hi there! I am a simple chatbot. How can i help you?\")\n",
        "        elif \"your name\" in user_input:\n",
        "          print(\"Bot: I am a simple chatbot 1001.\")\n",
        "        elif \"how are you\" in user_input:\n",
        "          print(\"Bot: I am fine, thank you. How are you?\")\n",
        "        elif re.search(r\"\\bi am fine\\b|\\bi am great\\b|\\b i am good\\b\",user_input):\n",
        "          print(\"Bot:Ok then. How can i help you?\")\n",
        "        elif \"help\" in user_input:\n",
        "          print(\"Bot: I am just a simple chatbot. Try to ask\",\" what can you do?\")\n",
        "        elif \"what can you do\" in user_input:\n",
        "          print(\"Bot: I can chat with you. \")\n",
        "        elif \"bye\" in user_input:\n",
        "          print(\"Bot: Goodbye! Have a great day.\")\n",
        "          break\n",
        "        else:\n",
        "          print(\"Bot: Sorry, I didn't understand that.\")\n",
        "\n",
        "\n"
      ]
    },
    {
      "cell_type": "markdown",
      "source": [],
      "metadata": {
        "id": "XcNsyN46w2rn"
      }
    },
    {
      "cell_type": "code",
      "execution_count": null,
      "metadata": {
        "colab": {
          "base_uri": "https://localhost:8080/"
        },
        "id": "eCXWOIUr67C7",
        "outputId": "684ead0b-218d-4613-f85b-2dba40f54bf2"
      },
      "outputs": [
        {
          "output_type": "stream",
          "name": "stdout",
          "text": [
            "Hello! I'm a simple chatbot. Type   bye  to exit.\n",
            "\n",
            "You: hi\n",
            "Bot: Hi there! I am a simple chatbot. How can i help you?\n",
            "You: your name\n",
            "Bot: I am a simple chatbot 1001.\n",
            "You: how are you\n",
            "Bot: I am fine, thank you. How are you?\n",
            "You: i am fine\n",
            "Bot:Ok then. How can i help you?\n",
            "You: help\n",
            "Bot: I am just a simple chatbot. Try to ask  what can you do?\n",
            "You: what can you do\n",
            "Bot: I can chat with you. \n",
            "You: goodbye\n",
            "Bot: Goodbye! Have a great day.\n"
          ]
        }
      ],
      "source": [
        "chatbot()"
      ]
    },
    {
      "cell_type": "markdown",
      "source": [
        "# Simple chatbot\n"
      ],
      "metadata": {
        "id": "cwoiSUnOwq_k"
      }
    },
    {
      "cell_type": "markdown",
      "source": [
        "This is a simple chatbot that responds toouser input using predefined rules. It uses gasi Python features like if-else statements and pattern matching to simulate a conversation experience."
      ],
      "metadata": {
        "id": "JETFTeQyw9Ng"
      }
    },
    {
      "cell_type": "markdown",
      "source": [
        "**features:**\n",
        "\n",
        "Greet the user.\n",
        "\n",
        "It responds to common inputs like:\n",
        "\n",
        "*   \"Helllo\", \"hi\" ,\"hey\"\n",
        "*   \"How are you\"\n",
        "*   \"What is your name\"\n",
        "*   \"What can you do\"\n",
        "*   \"bye\" to exit the chat\n"
      ],
      "metadata": {
        "id": "gMz5HtrOxqsD"
      }
    },
    {
      "cell_type": "markdown",
      "source": [
        "**Simple Conversation**\n",
        "\n",
        "*  Bot: Hello! I am a simple chatbot. Type bye to exit.\n",
        "*  You: Hi.\n",
        "*  Bot: Hi there! I am a simple chatbot. How can i help you?\n",
        "*  You: how are you?\n",
        "*  Bot: I am fine. Thank you. How are you?\n",
        "*  You: bye.\n",
        "*  Bot: Goodbye! Have a great day.\n",
        "\n",
        "\n",
        "\n",
        "\n",
        "\n",
        "\n"
      ],
      "metadata": {
        "id": "bU5a3Nu4y5rP"
      }
    },
    {
      "cell_type": "markdown",
      "source": [
        "**Technology used**:\n",
        "\n",
        "1.   Python 3\n",
        "2.   re (regular expression module)\n",
        "1.   input() and print() function\n",
        "\n",
        "\n",
        "\n"
      ],
      "metadata": {
        "id": "akzjol-i13Le"
      }
    }
  ],
  "metadata": {
    "colab": {
      "provenance": []
    },
    "kernelspec": {
      "display_name": "Python 3",
      "name": "python3"
    },
    "language_info": {
      "name": "python"
    }
  },
  "nbformat": 4,
  "nbformat_minor": 0
}