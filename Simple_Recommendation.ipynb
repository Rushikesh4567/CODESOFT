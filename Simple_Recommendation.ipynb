{
  "nbformat": 4,
  "nbformat_minor": 0,
  "metadata": {
    "colab": {
      "provenance": []
    },
    "kernelspec": {
      "name": "python3",
      "display_name": "Python 3"
    },
    "language_info": {
      "name": "python"
    }
  },
  "cells": [
    {
      "cell_type": "code",
      "execution_count": 5,
      "metadata": {
        "id": "e1rqroWnmMum"
      },
      "outputs": [],
      "source": [
        "#Simple Movie Recommendation system\n",
        "\n",
        "import numpy as np\n",
        "def sigmoid(x):\n",
        "  return 1/(1+np.exp(-x))\n"
      ]
    },
    {
      "cell_type": "code",
      "source": [
        "def cosine_similarity(vec1,vec2):\n",
        "  if np.linalg.norm(vec1)==0 or np.linalg.norm(vec2)==0:\n",
        "    return 0\n",
        "  return np.dot(vec1,vec2)/(np.linalg.norm(vec1)*np.linalg.norm(vec2))"
      ],
      "metadata": {
        "id": "VPBVFFy4UOOq"
      },
      "execution_count": 6,
      "outputs": []
    },
    {
      "cell_type": "code",
      "source": [
        "def recommend_movies(user_pref,movie_dataset,top=4):\n",
        "  recommendations=[]\n",
        "\n",
        "  for title,genre_vector in movie_dataset.items():\n",
        "    similarity=cosine_similarity(user_pref,genre_vector)\n",
        "    confidence=sigmoid(similarity)\n",
        "    recommendations.append((title,similarity))\n",
        "\n",
        "  recommendations.sort(key=lambda x:x[1],reverse=True)\n",
        "  return recommendations[:top]"
      ],
      "metadata": {
        "id": "ik5Y7TcOXeZZ"
      },
      "execution_count": 7,
      "outputs": []
    },
    {
      "cell_type": "code",
      "source": [
        "#Movie Dataset and output\n",
        "#movies dataset=>[action,comedy,drama,sci-fi]\n",
        "movies={\n",
        "    'Iron man': np.array([1,0,0,0]),\n",
        "    'The Matrix': np.array([0,1,0,0]),\n",
        "    'The Hulk': np.array([0,0,1,0]),\n",
        "    'The Godfather': np.array([0,0,1,0]),\n",
        "    'The Dark Knight':np.array([1,0,1,1]),\n",
        "    'Rush Hour':np.array([1,0,0,0]),\n",
        "    'Intersteller':np.array([0,0,1,1]),\n",
        "    'The Martian':np.array([0,0,1,1]),\n",
        "    'The Hangover':np.array([0,1,0,0]),\n",
        "    'John Wick':np.array([1,0,0,0])\n",
        "}\n",
        "\n",
        "user_data=np.array([5,3,1,4])\n",
        "\n",
        "top_movies=recommend_movies(user_data,movies)\n",
        "\n",
        "print(\"Top Movie Recommendations according to user input is:\\n\")\n",
        "\n",
        "for title,score in top_movies:\n",
        "  print(f\"{title} (Confidence score: {score*10:.1f})\")"
      ],
      "metadata": {
        "id": "w-OzEEA0rIQ-",
        "colab": {
          "base_uri": "https://localhost:8080/"
        },
        "outputId": "f13f6577-4f07-4a03-c049-575fd2677498"
      },
      "execution_count": 8,
      "outputs": [
        {
          "output_type": "stream",
          "name": "stdout",
          "text": [
            "Top Movie Recommendations according to user input is:\n",
            "\n",
            "The Dark Knight (Confidence score: 8.1)\n",
            "Iron man (Confidence score: 7.0)\n",
            "Rush Hour (Confidence score: 7.0)\n",
            "John Wick (Confidence score: 7.0)\n"
          ]
        }
      ]
    },
    {
      "cell_type": "markdown",
      "source": [
        "# Simple Movie Recommendation System"
      ],
      "metadata": {
        "id": "NZ8JpVOWx-KU"
      }
    },
    {
      "cell_type": "markdown",
      "source": [
        "This System Recommends movies to a user based on their genre preference using cosine similarity.\n",
        "\n",
        "1. Each movie is represented as a vector of genres:[action,comedy,drama,sci-fi]'\n",
        "2. The user provides a preference vector like  '[5,3,1,4]'  Indicating thier interest in each game.\n",
        "3. We compute cosine similarity between user vector and each movies genre vector to determine how closely they match.\n",
        "4. The result is passed through the sigmoid function to convert it into a confidende score between 0 and 1.\n",
        "5. The top 'n' movies with the highest confidence score are recommend to user.\n",
        "\n"
      ],
      "metadata": {
        "id": "dSQczPjmyJCr"
      }
    },
    {
      "cell_type": "markdown",
      "source": [
        "Formulae used are:\n",
        "\n",
        "1. sigmoid function:\n",
        "       σ(x)=1/(1+e−x)\n",
        "\n",
        "2. Cosine similarity:\n",
        "\n",
        "        Cosine Similarity=(A⋅B)/(||A||*||B||)\n"
      ],
      "metadata": {
        "id": "yOg1r4ONoh2T"
      }
    },
    {
      "cell_type": "markdown",
      "source": [
        "This approach ensures that recommendations are based on how well a movies genre aligns with what user preferes, and the sigmoid function normalizes score to confidence value."
      ],
      "metadata": {
        "id": "EroH0p7ko-Ku"
      }
    }
  ]
}